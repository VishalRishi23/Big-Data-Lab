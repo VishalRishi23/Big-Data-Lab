{
 "cells": [
  {
   "cell_type": "code",
   "execution_count": 13,
   "id": "65bcb8db",
   "metadata": {},
   "outputs": [],
   "source": [
    "import pyspark as pysp\n",
    "from pyspark.sql.types import IntegerType\n",
    "import pandas as pd\n",
    "import numpy as np\n",
    "\n",
    "import pyspark.sql.functions as F\n",
    "import pyspark.sql.types as T\n",
    "\n",
    "from pyspark.ml.feature import Tokenizer, HashingTF, IDF\n",
    "from pyspark.ml.classification import DecisionTreeClassifier,NaiveBayes,LogisticRegression\n",
    "\n",
    "from pyspark.ml import PipelineModel\n",
    "from pyspark.ml import Pipeline\n",
    "from pyspark.ml.feature import RegexTokenizer, StopWordsRemover, CountVectorizer\n",
    "from pyspark.ml.classification import LogisticRegression\n",
    "from pyspark.ml.feature import NGram,OneHotEncoder, StringIndexer, VectorAssembler\n",
    "from pyspark.ml.evaluation import MulticlassClassificationEvaluator"
   ]
  },
  {
   "cell_type": "code",
   "execution_count": 3,
   "id": "5791e008",
   "metadata": {},
   "outputs": [
    {
     "name": "stderr",
     "output_type": "stream",
     "text": [
      "Setting default log level to \"WARN\".\n",
      "To adjust logging level use sc.setLogLevel(newLevel). For SparkR, use setLogLevel(newLevel).\n",
      "22/05/15 10:49:39 INFO org.apache.spark.SparkEnv: Registering MapOutputTracker\n",
      "22/05/15 10:49:39 INFO org.apache.spark.SparkEnv: Registering BlockManagerMaster\n",
      "22/05/15 10:49:39 INFO org.apache.spark.SparkEnv: Registering BlockManagerMasterHeartbeat\n",
      "22/05/15 10:49:39 INFO org.apache.spark.SparkEnv: Registering OutputCommitCoordinator\n"
     ]
    }
   ],
   "source": [
    "# sc = pysp.context.SparkContext()\n",
    "spark = pysp.sql.SparkSession.builder \\\n",
    "    .appName(\"text_classification_trainer\") \\\n",
    "    .master(\"local\") \\\n",
    "    .getOrCreate()"
   ]
  },
  {
   "cell_type": "code",
   "execution_count": 4,
   "id": "86cd6603",
   "metadata": {},
   "outputs": [
    {
     "name": "stderr",
     "output_type": "stream",
     "text": [
      "                                                                                \r"
     ]
    }
   ],
   "source": [
    "df = spark.read.csv('gs://bdl2022/YELP_train.csv/', inferSchema = True)"
   ]
  },
  {
   "cell_type": "code",
   "execution_count": 4,
   "id": "ffa342fe",
   "metadata": {},
   "outputs": [
    {
     "name": "stdout",
     "output_type": "stream",
     "text": [
      "root\n",
      " |-- _c0: string (nullable = true)\n",
      " |-- _c1: string (nullable = true)\n",
      " |-- _c2: string (nullable = true)\n",
      " |-- _c3: string (nullable = true)\n",
      " |-- _c4: string (nullable = true)\n",
      " |-- _c5: string (nullable = true)\n",
      " |-- _c6: string (nullable = true)\n",
      " |-- _c7: string (nullable = true)\n",
      " |-- _c8: string (nullable = true)\n",
      "\n"
     ]
    }
   ],
   "source": [
    "df.printSchema()"
   ]
  },
  {
   "cell_type": "code",
   "execution_count": 8,
   "id": "7e1f2cf1",
   "metadata": {},
   "outputs": [
    {
     "name": "stderr",
     "output_type": "stream",
     "text": [
      "                                                                                \r"
     ]
    },
    {
     "data": {
      "text/plain": [
       "11558702"
      ]
     },
     "execution_count": 8,
     "metadata": {},
     "output_type": "execute_result"
    }
   ],
   "source": [
    "df.count()"
   ]
  },
  {
   "cell_type": "code",
   "execution_count": 4,
   "id": "2a57ff8b",
   "metadata": {},
   "outputs": [
    {
     "name": "stderr",
     "output_type": "stream",
     "text": [
      "\r\n",
      "[Stage 2:>                                                          (0 + 1) / 1]\r"
     ]
    },
    {
     "name": "stdout",
     "output_type": "stream",
     "text": [
      "+--------------------+----+-------------------+\n",
      "|                 _c0| _c1|                _c2|\n",
      "+--------------------+----+-------------------+\n",
      "|--30_8IhuyMHbSOcN...|   0|2018-04-30 16:56:24|\n",
      "|--7PUidqRWpRSpXeb...|   0|2019-11-02 23:30:02|\n",
      "|The exterior and ...|null|               null|\n",
      "|Drug use action j...|null|               null|\n",
      "|Pan scrambler was...|null|               null|\n",
      "+--------------------+----+-------------------+\n",
      "only showing top 5 rows\n",
      "\n"
     ]
    },
    {
     "name": "stderr",
     "output_type": "stream",
     "text": [
      "\r\n",
      "                                                                                \r"
     ]
    }
   ],
   "source": [
    "df.select('_c0', '_c1', '_c2').show(5)"
   ]
  },
  {
   "cell_type": "code",
   "execution_count": 6,
   "id": "a8b62c4d",
   "metadata": {},
   "outputs": [
    {
     "name": "stdout",
     "output_type": "stream",
     "text": [
      "+----+--------------------+----+\n",
      "| _c3|                 _c4| _c5|\n",
      "+----+--------------------+----+\n",
      "|   0|DBJXMz1RIr91eFUd0...| 4.0|\n",
      "|   0|0O4RqD91ZHdCPw4rU...| 1.0|\n",
      "|null|                null|null|\n",
      "|null|                null|null|\n",
      "|null|                null|null|\n",
      "+----+--------------------+----+\n",
      "only showing top 5 rows\n",
      "\n"
     ]
    }
   ],
   "source": [
    "df.select('_c3', '_c4', '_c5').show(5)"
   ]
  },
  {
   "cell_type": "code",
   "execution_count": 7,
   "id": "3e9037c7",
   "metadata": {},
   "outputs": [
    {
     "name": "stdout",
     "output_type": "stream",
     "text": [
      "+--------------------+----+--------------------+\n",
      "|                 _c6| _c7|                 _c8|\n",
      "+--------------------+----+--------------------+\n",
      "|My child has been...|   1|LH2QmlXtq8CLji65l...|\n",
      "|Lunchtime while v...|null|                null|\n",
      "|                null|null|                null|\n",
      "|                null|null|                null|\n",
      "|                null|null|                null|\n",
      "+--------------------+----+--------------------+\n",
      "only showing top 5 rows\n",
      "\n"
     ]
    }
   ],
   "source": [
    "df.select('_c6', '_c7', '_c8').show(5)"
   ]
  },
  {
   "cell_type": "code",
   "execution_count": 9,
   "id": "c86b2154",
   "metadata": {},
   "outputs": [
    {
     "data": {
      "text/plain": [
       "'0, 4, 8 = ids\\n   2 = date\\n   6 = review\\n   5 = targets\\n   1, 3, 7 = votes'"
      ]
     },
     "execution_count": 9,
     "metadata": {},
     "output_type": "execute_result"
    }
   ],
   "source": [
    "'''0, 4, 8 = ids\n",
    "   2 = date\n",
    "   6 = review\n",
    "   5 = targets\n",
    "   1, 3, 7 = votes'''"
   ]
  },
  {
   "cell_type": "code",
   "execution_count": 5,
   "id": "ea499c1f",
   "metadata": {},
   "outputs": [],
   "source": [
    "df.createOrReplaceTempView(\"data\")"
   ]
  },
  {
   "cell_type": "code",
   "execution_count": 6,
   "id": "001ea825",
   "metadata": {},
   "outputs": [],
   "source": [
    "data = spark.sql(\"SELECT _c1, _c3, _c6, _c7, _c5 FROM data\")"
   ]
  },
  {
   "cell_type": "code",
   "execution_count": 7,
   "id": "6e7dc0cd",
   "metadata": {},
   "outputs": [
    {
     "name": "stdout",
     "output_type": "stream",
     "text": [
      "+----+----+--------------------+----+----+\n",
      "| _c1| _c3|                 _c6| _c7| _c5|\n",
      "+----+----+--------------------+----+----+\n",
      "|   0|   0|My child has been...|   1| 4.0|\n",
      "|   0|   0|Lunchtime while v...|null| 1.0|\n",
      "|null|null|                null|null|null|\n",
      "|null|null|                null|null|null|\n",
      "|null|null|                null|null|null|\n",
      "+----+----+--------------------+----+----+\n",
      "only showing top 5 rows\n",
      "\n"
     ]
    }
   ],
   "source": [
    "data.show(5)"
   ]
  },
  {
   "cell_type": "code",
   "execution_count": 8,
   "id": "f16ab48b",
   "metadata": {},
   "outputs": [],
   "source": [
    "data = data.withColumn(\"_c1\", data[\"_c1\"].cast(IntegerType()))\n",
    "data = data.withColumn(\"_c3\", data[\"_c3\"].cast(IntegerType()))\n",
    "data = data.withColumn(\"_c7\", data[\"_c7\"].cast(IntegerType()))\n",
    "data = data.withColumn(\"_c5\", data[\"_c5\"].cast(IntegerType()))"
   ]
  },
  {
   "cell_type": "code",
   "execution_count": 9,
   "id": "7f1e65cb",
   "metadata": {},
   "outputs": [],
   "source": [
    "data = data.dropna()  #filter(\"_c1 is not NULL and _c3 is not NULL and _c6 is not NULL and _c7 is not NULL and _c5 is not NULL\")"
   ]
  },
  {
   "cell_type": "code",
   "execution_count": 11,
   "id": "9543c152",
   "metadata": {},
   "outputs": [
    {
     "name": "stderr",
     "output_type": "stream",
     "text": [
      "                                                                                \r"
     ]
    },
    {
     "data": {
      "text/plain": [
       "3659598"
      ]
     },
     "execution_count": 11,
     "metadata": {},
     "output_type": "execute_result"
    }
   ],
   "source": [
    "data.count()"
   ]
  },
  {
   "cell_type": "code",
   "execution_count": 10,
   "id": "6a14e5d1",
   "metadata": {},
   "outputs": [],
   "source": [
    "data = data.filter('_c1 >= 0 and _c3 >= 0 and _c7 >= 0 and _c5 <= 5 and _c5 > 0')"
   ]
  },
  {
   "cell_type": "code",
   "execution_count": 53,
   "id": "a9d90f00",
   "metadata": {},
   "outputs": [
    {
     "name": "stderr",
     "output_type": "stream",
     "text": [
      "                                                                                \r"
     ]
    }
   ],
   "source": [
    "gre_histogram_c1 = data.select('_c1').rdd.flatMap(lambda x: x).histogram(11)\n",
    "gre_histogram_c3 = data.select('_c3').rdd.flatMap(lambda x: x).histogram(11)\n",
    "gre_histogram_c7 = data.select('_c7').rdd.flatMap(lambda x: x).histogram(11)\n",
    "gre_histogram_c5 = data.select('_c5').rdd.flatMap(lambda x: x).histogram(11)"
   ]
  },
  {
   "cell_type": "code",
   "execution_count": 54,
   "id": "1ee70702",
   "metadata": {},
   "outputs": [
    {
     "data": {
      "image/png": "[encoded data removed]",
      "text/plain": [
       "<Figure size 432x288 with 1 Axes>"
      ]
     },
     "metadata": {
      "needs_background": "light"
     },
     "output_type": "display_data"
    }
   ],
   "source": [
    "# Loading the Computed Histogram into a Pandas Dataframe for plotting\n",
    "pd.DataFrame(\n",
    "    list(zip(*gre_histogram_c1)), \n",
    "    columns=['bin', 'frequency']\n",
    ").set_index(\n",
    "    'bin'\n",
    ").plot(kind='bar');"
   ]
  },
  {
   "cell_type": "code",
   "execution_count": 55,
   "id": "7e5a2e9e",
   "metadata": {},
   "outputs": [
    {
     "data": {
      "image/png": "[encoded data removed]",
      "text/plain": [
       "<Figure size 432x288 with 1 Axes>"
      ]
     },
     "metadata": {
      "needs_background": "light"
     },
     "output_type": "display_data"
    }
   ],
   "source": [
    "# Loading the Computed Histogram into a Pandas Dataframe for plotting\n",
    "pd.DataFrame(\n",
    "    list(zip(*gre_histogram_c3)), \n",
    "    columns=['bin', 'frequency']\n",
    ").set_index(\n",
    "    'bin'\n",
    ").plot(kind='bar');"
   ]
  },
  {
   "cell_type": "code",
   "execution_count": 56,
   "id": "5c9ea08e",
   "metadata": {},
   "outputs": [
    {
     "data": {
      "image/png": "[encoded data removed]",
      "text/plain": [
       "<Figure size 432x288 with 1 Axes>"
      ]
     },
     "metadata": {
      "needs_background": "light"
     },
     "output_type": "display_data"
    }
   ],
   "source": [
    "# Loading the Computed Histogram into a Pandas Dataframe for plotting\n",
    "pd.DataFrame(\n",
    "    list(zip(*gre_histogram_c7)), \n",
    "    columns=['bin', 'frequency']\n",
    ").set_index(\n",
    "    'bin'\n",
    ").plot(kind='bar');"
   ]
  },
  {
   "cell_type": "code",
   "execution_count": 62,
   "id": "ded3a085",
   "metadata": {},
   "outputs": [
    {
     "data": {
      "image/png": "[encoded data removed]",
      "text/plain": [
       "<Figure size 432x288 with 1 Axes>"
      ]
     },
     "metadata": {
      "needs_background": "light"
     },
     "output_type": "display_data"
    }
   ],
   "source": [
    "# Loading the Computed Histogram into a Pandas Dataframe for plotting\n",
    "pd.DataFrame(\n",
    "    list(zip(*gre_histogram_c5)), \n",
    "    columns=['bin', 'frequency']\n",
    ").set_index(\n",
    "    'bin'\n",
    ").plot(kind='bar');"
   ]
  },
  {
   "cell_type": "markdown",
   "id": "839df25f",
   "metadata": {},
   "source": [
    "## Model building"
   ]
  },
  {
   "cell_type": "code",
   "execution_count": 11,
   "id": "d395b9ef",
   "metadata": {},
   "outputs": [
    {
     "name": "stdout",
     "output_type": "stream",
     "text": [
      "+---+---+--------------------+---+---+\n",
      "|_c1|_c3|                 _c6|_c7|_c5|\n",
      "+---+---+--------------------+---+---+\n",
      "|  0|  0|My child has been...|  1|  4|\n",
      "|  0|  0|Eh.. not that gre...|  6|  2|\n",
      "|  0|  0|4706 Paris Ave, N...|  0|  1|\n",
      "|  0|  0|We recently had o...|  0|  5|\n",
      "|  0|  0|Very poor experie...|  0|  1|\n",
      "+---+---+--------------------+---+---+\n",
      "only showing top 5 rows\n",
      "\n"
     ]
    }
   ],
   "source": [
    "data.show(5)"
   ]
  },
  {
   "cell_type": "code",
   "execution_count": 23,
   "id": "8e41228e",
   "metadata": {},
   "outputs": [],
   "source": [
    "def build_twograms(inputCol = [\"_c6\", \"_c5\"], n = 2):\n",
    "    tokenizer = [Tokenizer(inputCol = inputCol[0], outputCol = \"word\")]\n",
    "    stopwordsRemover = [StopWordsRemover(inputCol=\"word\", outputCol=\"words\")]\n",
    "    ngrams = [\n",
    "    \n",
    "        NGram(n=i, inputCol=\"words\", outputCol=\"{0}_grams\".format(i))\n",
    "        for i in range(1, n + 1)\n",
    "    ]\n",
    " \n",
    "    cv = [\n",
    "        CountVectorizer(vocabSize=1024,inputCol=\"{0}_grams\".format(i),\n",
    "            outputCol=\"{0}_tf\".format(i))\n",
    "        for i in range(1, n + 1)\n",
    "    ]\n",
    "    idf = [IDF(inputCol=\"{0}_tf\".format(i), outputCol=\"{0}_tfidf\".format(i), minDocFreq=5) for i in range(1, n + 1)]\n",
    " \n",
    "    assembler = [VectorAssembler(\n",
    "        inputCols=[\"{0}_tfidf\".format(i) for i in range(1, n + 1)],\n",
    "        outputCol=\"features\"\n",
    "    )]\n",
    "     \n",
    "    lr = [LogisticRegression(labelCol=inputCol[-1], featuresCol=\"features\",maxIter=20, regParam=0.1)]  \n",
    "    return Pipeline(stages=tokenizer + stopwordsRemover + ngrams + cv + idf+ assembler +lr)"
   ]
  },
  {
   "cell_type": "code",
   "execution_count": 24,
   "id": "9d07f2d6",
   "metadata": {},
   "outputs": [],
   "source": [
    "data_train, data_test = data.randomSplit([0.8, 0.2], seed = 42)"
   ]
  },
  {
   "cell_type": "code",
   "execution_count": null,
   "id": "c1648ab0",
   "metadata": {},
   "outputs": [
    {
     "name": "stderr",
     "output_type": "stream",
     "text": [
      "[Stage 9:==============>                                          (10 + 1) / 40]\r"
     ]
    }
   ],
   "source": [
    "twogram_pipelineFit = build_twograms().fit(data_train)"
   ]
  },
  {
   "cell_type": "code",
   "execution_count": null,
   "id": "7d1607b2",
   "metadata": {},
   "outputs": [],
   "source": [
    "# twogram_pipelineFit.save('gs://ch18b013mkvr/modelpath/')"
   ]
  },
  {
   "cell_type": "code",
   "execution_count": null,
   "id": "90379729",
   "metadata": {},
   "outputs": [],
   "source": [
    "evaluatorMulti = MulticlassClassificationEvaluator(labelCol = \"_c5\", predictionCol=\"prediction\")\n",
    "predictionAndTarget = twogram_pipelineFit.transform(data_test).select(\"_c5\", \"prediction\")"
   ]
  },
  {
   "cell_type": "code",
   "execution_count": null,
   "id": "41f6fa8f",
   "metadata": {},
   "outputs": [],
   "source": [
    "acc = evaluatorMulti.evaluate(predictionAndTarget, {evaluatorMulti.metricName: \"accuracy\"})\n",
    "f1 = evaluatorMulti.evaluate(predictionAndTarget, {evaluatorMulti.metricName: \"f1\"})\n",
    "print(\"Accuracy of logistic is = %g\"% (acc))\n",
    "print(\"F1 of logistic is = %g\"% (f1))"
   ]
  },
  {
   "cell_type": "code",
   "execution_count": null,
   "id": "2e822887",
   "metadata": {},
   "outputs": [],
   "source": []
  },
  {
   "cell_type": "code",
   "execution_count": null,
   "id": "ca973708",
   "metadata": {},
   "outputs": [],
   "source": []
  }
 ],
 "metadata": {
  "kernelspec": {
   "display_name": "Python 3",
   "language": "python",
   "name": "python3"
  },
  "language_info": {
   "codemirror_mode": {
    "name": "ipython",
    "version": 3
   },
   "file_extension": ".py",
   "mimetype": "text/x-python",
   "name": "python",
   "nbconvert_exporter": "python",
   "pygments_lexer": "ipython3",
   "version": "3.8.13"
  }
 },
 "nbformat": 4,
 "nbformat_minor": 5
}
