{
  "nbformat": 4,
  "nbformat_minor": 0,
  "metadata": {
    "accelerator": "GPU",
    "colab": {
      "name": "CS4830_ME17B170_Lab8_Code.ipynb",
      "provenance": [],
      "collapsed_sections": []
    },
    "kernelspec": {
      "display_name": "Python 3",
      "language": "python",
      "name": "python3"
    },
    "language_info": {
      "codemirror_mode": {
        "name": "ipython",
        "version": 3
      },
      "file_extension": ".py",
      "mimetype": "text/x-python",
      "name": "python",
      "nbconvert_exporter": "python",
      "pygments_lexer": "ipython3",
      "version": "3.6.5"
    }
  },
  "cells": [
    {
      "cell_type": "code",
      "metadata": {
        "colab": {
          "base_uri": "https://localhost:8080/"
        },
        "id": "dz907NVoTcok",
        "outputId": "09d8fc97-0a16-405d-f8b4-c7deded2c0d1"
      },
      "source": [
        "# setup\n",
        "\n",
        "!sudo apt-get install openjdk-11-jdk\n",
        "# !wget -q https://downloads.apache.org/spark/spark-3.1.1/spark-3.1.1-bin-hadoop3.2.tgz\n",
        "# !tar xvzf spark-3.1.1-bin-hadoop3.2.tgz\n",
        "!pip install pyspark\n",
        "!pip install -q findspark\n",
        "!pip install pyarrow\n",
        "try:\n",
        "  # %tensorflow_version only exists in Colab.\n",
        "  !pip install  tf-estimator-nightly==2.8.0.dev2021122109\n",
        "except Exception:\n",
        "  pass"
      ],
      "execution_count": 1,
      "outputs": [
        {
          "output_type": "stream",
          "name": "stdout",
          "text": [
            "Reading package lists... Done\n",
            "Building dependency tree       \n",
            "Reading state information... Done\n",
            "openjdk-11-jdk is already the newest version (11.0.14.1+1-0ubuntu1~18.04).\n",
            "0 upgraded, 0 newly installed, 0 to remove and 39 not upgraded.\n",
            "Requirement already satisfied: pyspark in /usr/local/lib/python3.7/dist-packages (3.2.1)\n",
            "Requirement already satisfied: py4j==0.10.9.3 in /usr/local/lib/python3.7/dist-packages (from pyspark) (0.10.9.3)\n",
            "Requirement already satisfied: pyarrow in /usr/local/lib/python3.7/dist-packages (6.0.1)\n",
            "Requirement already satisfied: numpy>=1.16.6 in /usr/local/lib/python3.7/dist-packages (from pyarrow) (1.21.5)\n",
            "Requirement already satisfied: tf-estimator-nightly==2.8.0.dev2021122109 in /usr/local/lib/python3.7/dist-packages (2.8.0.dev2021122109)\n"
          ]
        }
      ]
    },
    {
      "cell_type": "code",
      "source": [
        "from PIL import Image\n",
        "from __future__ import absolute_import, division, print_function, unicode_literals\n",
        "import tensorflow as tf\n",
        "import torch\n",
        "from torch.utils.data import Dataset, DataLoader\n",
        "from torchvision import models, transforms\n",
        "from PIL import Image\n",
        "from pyspark.sql.functions import col, pandas_udf, regexp_extract\n",
        "import io\n",
        "from tensorflow.keras.applications.imagenet_utils import decode_predictions\n",
        "import pandas as pd\n",
        "from pyspark.sql.functions import col, pandas_udf, PandasUDFType\n",
        "import pathlib\n",
        "from pyspark.sql.functions import col, pandas_udf, regexp_extract\n",
        "import io\n",
        "from tensorflow.keras.applications.imagenet_utils import decode_predictions\n",
        "import pandas as pd\n",
        "from pyspark.sql.functions import col, pandas_udf, PandasUDFType\n",
        "import torch\n",
        "from torch.utils.data import Dataset, DataLoader\n",
        "from torchvision import models, transforms\n",
        "from pyspark.sql import SparkSession"
      ],
      "metadata": {
        "id": "FDh905SlaWOY"
      },
      "execution_count": 2,
      "outputs": []
    },
    {
      "cell_type": "code",
      "source": [
        "import os\n",
        "os.environ[\"JAVA_HOME\"] = \"/usr/lib/jvm/java-11-openjdk-amd64\"\n",
        "# os.environ[\"SPARK_HOME\"] = \"/content/spark-3.1.1-bin-hadoop3.2\""
      ],
      "metadata": {
        "id": "0NX8XQhlaOjD"
      },
      "execution_count": 3,
      "outputs": []
    },
    {
      "cell_type": "code",
      "source": [
        "import findspark\n",
        "findspark.init()\n",
        "\n",
        "spark = SparkSession.builder.master(\"local[*]\").getOrCreate()"
      ],
      "metadata": {
        "id": "K3QxZgr4bB61"
      },
      "execution_count": 4,
      "outputs": []
    },
    {
      "cell_type": "code",
      "metadata": {
        "id": "h8Z7BchoXLDe",
        "colab": {
          "base_uri": "https://localhost:8080/"
        },
        "outputId": "f3db1138-bf32-46b8-dad8-8e6fea4554da"
      },
      "source": [
        "data_dir = tf.keras.utils.get_file(origin='http://pjreddie.com/media/files/cifar.tgz',fname='cifar', untar=True)"
      ],
      "execution_count": 5,
      "outputs": [
        {
          "output_type": "stream",
          "name": "stdout",
          "text": [
            "Downloading data from http://pjreddie.com/media/files/cifar.tgz\n",
            "168584360/168584360 [==============================] - 10s 0us/step\n"
          ]
        }
      ]
    },
    {
      "cell_type": "code",
      "metadata": {
        "id": "8-Jh-li0V3al"
      },
      "source": [
        "images = spark.read.format(\"binaryFile\").option(\"recursiveFileLookup\", \"true\").option(\"pathGlobFilter\", \"*.png\").load(data_dir)"
      ],
      "execution_count": 6,
      "outputs": []
    },
    {
      "cell_type": "code",
      "metadata": {
        "id": "ekKZzpVPha5M"
      },
      "source": [
        "def extract_label(path_col):\n",
        "  \"\"\"Extract label from file path using built-in SQL functions.\"\"\"\n",
        "  return regexp_extract(path_col, \"_([^/.]+)\", 1)\n",
        "\n",
        "def extract_size(content):\n",
        "  \"\"\"Extract image size from its raw content.\"\"\"\n",
        "  image = Image.open(io.BytesIO(content))\n",
        "  return image.size\n",
        "\n",
        "@pandas_udf(\"width: int, height: int\")\n",
        "def extract_size_udf(content_series):\n",
        "  sizes = content_series.apply(extract_size)\n",
        "  return pd.DataFrame(list(sizes))\n",
        "\n",
        "df = images.select(\n",
        "  col(\"path\"),\n",
        "  col(\"modificationTime\"),\n",
        "  extract_label(col(\"path\")).alias(\"label\"),\n",
        "  extract_size_udf(col(\"content\")).alias(\"size\"),\n",
        "  col(\"content\"))"
      ],
      "execution_count": 7,
      "outputs": []
    },
    {
      "cell_type": "code",
      "metadata": {
        "colab": {
          "base_uri": "https://localhost:8080/"
        },
        "id": "dg2xTT0SSQdu",
        "outputId": "7995b85c-960d-4468-f919-26e38f286abc"
      },
      "source": [
        "df.show(5)"
      ],
      "execution_count": 9,
      "outputs": [
        {
          "output_type": "stream",
          "name": "stdout",
          "text": [
            "+--------------------+-------------------+-----+--------+--------------------+\n",
            "|                path|   modificationTime|label|    size|             content|\n",
            "+--------------------+-------------------+-----+--------+--------------------+\n",
            "|file:/root/.keras...|2016-11-18 20:24:13| frog|{32, 32}|[89 50 4E 47 0D 0...|\n",
            "|file:/root/.keras...|2016-11-18 20:24:13| bird|{32, 32}|[89 50 4E 47 0D 0...|\n",
            "|file:/root/.keras...|2016-11-18 20:24:12| frog|{32, 32}|[89 50 4E 47 0D 0...|\n",
            "|file:/root/.keras...|2016-11-18 20:24:13| frog|{32, 32}|[89 50 4E 47 0D 0...|\n",
            "|file:/root/.keras...|2016-11-18 20:24:12| deer|{32, 32}|[89 50 4E 47 0D 0...|\n",
            "+--------------------+-------------------+-----+--------+--------------------+\n",
            "only showing top 5 rows\n",
            "\n"
          ]
        }
      ]
    },
    {
      "cell_type": "code",
      "metadata": {
        "colab": {
          "base_uri": "https://localhost:8080/"
        },
        "id": "HgRfVZHaU7XC",
        "outputId": "bce95781-be4b-4998-91b3-83caa62f8f39"
      },
      "source": [
        "df.select(col('label')).distinct().show()"
      ],
      "execution_count": 10,
      "outputs": [
        {
          "output_type": "stream",
          "name": "stdout",
          "text": [
            "+----------+\n",
            "|     label|\n",
            "+----------+\n",
            "|      deer|\n",
            "|      bird|\n",
            "|      frog|\n",
            "|     truck|\n",
            "|       dog|\n",
            "|       cat|\n",
            "|  airplane|\n",
            "|automobile|\n",
            "|     horse|\n",
            "|      ship|\n",
            "+----------+\n",
            "\n"
          ]
        }
      ]
    },
    {
      "cell_type": "code",
      "metadata": {
        "id": "jrDuJgc-oO8z"
      },
      "source": [
        "class ImageNetDataset(Dataset):\n",
        "  \"\"\"\n",
        "  Converts image contents into a PyTorch Dataset with standard ImageNet preprocessing.\n",
        "  \"\"\"\n",
        "  def __init__(self, contents):\n",
        "    self.contents = contents\n",
        "\n",
        "  def __len__(self):\n",
        "    return len(self.contents)\n",
        "\n",
        "  def __getitem__(self, index):\n",
        "    return self._preprocess(self.contents[index])\n",
        "\n",
        "  def _preprocess(self, content):\n",
        "    \"\"\"\n",
        "    Preprocesses the input image content using standard ImageNet normalization.\n",
        "    \n",
        "    See https://pytorch.org/docs/stable/torchvision/models.html.\n",
        "    \"\"\"\n",
        "    image = Image.open(io.BytesIO(content))\n",
        "    transform = transforms.Compose([\n",
        "      transforms.Resize(256),\n",
        "      transforms.CenterCrop(224),\n",
        "      transforms.ToTensor(),\n",
        "      transforms.Normalize(mean=[0.485, 0.456, 0.406], std=[0.229, 0.224, 0.225]),\n",
        "    ])\n",
        "    return transform(image)"
      ],
      "execution_count": 11,
      "outputs": []
    },
    {
      "cell_type": "code",
      "metadata": {
        "id": "kvHGxWr-oVDC"
      },
      "source": [
        "def imagenet_model_udf(model_fn):\n",
        "  \"\"\"\n",
        "  Wraps an ImageNet model into a Pandas UDF that makes predictions.\n",
        "  \n",
        "  You might consider the following customizations for your own use case:\n",
        "    - Tune DataLoader's batch_size and num_workers for better performance.\n",
        "    - Use GPU for acceleration.\n",
        "    - Change prediction types.\n",
        "  \"\"\"\n",
        "  def predict(content_series_iter):\n",
        "    model = model_fn()\n",
        "    model.eval()\n",
        "    for content_series in content_series_iter:\n",
        "      dataset = ImageNetDataset(list(content_series))\n",
        "      loader = DataLoader(dataset, batch_size=64)\n",
        "      with torch.no_grad():\n",
        "        for image_batch in loader:\n",
        "          predictions = model(image_batch).numpy()\n",
        "          predicted_labels = [x[0] for x in decode_predictions(predictions, top=1)]\n",
        "          # print(predicted_labels)\n",
        "          # break\n",
        "          yield pd.DataFrame(predicted_labels)\n",
        "  return_type = \"class: string, desc: string, score:float\"\n",
        "  return pandas_udf(return_type, PandasUDFType.SCALAR_ITER)(predict)"
      ],
      "execution_count": 12,
      "outputs": []
    },
    {
      "cell_type": "code",
      "metadata": {
        "colab": {
          "base_uri": "https://localhost:8080/"
        },
        "id": "x2oDBlEKoYSJ",
        "outputId": "53d8f62d-0d5f-4799-ce68-cfa58de68219"
      },
      "source": [
        "mobilenet_v2_udf = imagenet_model_udf(lambda: models.mobilenet_v2(pretrained=True))"
      ],
      "execution_count": 13,
      "outputs": [
        {
          "output_type": "stream",
          "name": "stderr",
          "text": [
            "/usr/local/lib/python3.7/dist-packages/pyspark/sql/pandas/functions.py:392: UserWarning: In Python 3.6+ and Spark 3.0+, it is preferred to specify type hints for pandas UDF instead of specifying pandas UDF type which will be deprecated in the future releases. See SPARK-28264 for more details.\n",
            "  \"in the future releases. See SPARK-28264 for more details.\", UserWarning)\n"
          ]
        }
      ]
    },
    {
      "cell_type": "code",
      "metadata": {
        "colab": {
          "base_uri": "https://localhost:8080/",
          "height": 34
        },
        "id": "n3llm3H0oa9t",
        "outputId": "381e48ca-9c09-4a7e-b88d-3f0f0dc8be4e"
      },
      "source": [
        "#images = table(\"ml_tmp.flowers\")\n",
        "#predictions = images.withColumn(\"prediction\", mobilenet_v2_udf(col(\"content\")))\n",
        "\n",
        "predictions = df.withColumn(\"prediction\", mobilenet_v2_udf(col(\"content\")))\n",
        "display(predictions.select(col(\"path\"), col(\"prediction\")).limit(5))"
      ],
      "execution_count": 14,
      "outputs": [
        {
          "output_type": "display_data",
          "data": {
            "text/plain": [
              "DataFrame[path: string, prediction: struct<class:string,desc:string,score:float>]"
            ]
          },
          "metadata": {}
        }
      ]
    },
    {
      "cell_type": "code",
      "metadata": {
        "colab": {
          "base_uri": "https://localhost:8080/"
        },
        "id": "Z4Zdr9BrtTA-",
        "outputId": "67a538e6-a7a5-4eeb-c0ee-c5cc0580b32a"
      },
      "source": [
        "# predictions.select(col(\"prediction\")).show(10, truncate = False)\n",
        "predictions.select(col(\"label\"),col(\"prediction\")).show(10, truncate = False)"
      ],
      "execution_count": 16,
      "outputs": [
        {
          "output_type": "stream",
          "name": "stdout",
          "text": [
            "+-----+----------------------------------------+\n",
            "|label|prediction                              |\n",
            "+-----+----------------------------------------+\n",
            "|frog |{n02128925, jaguar, 13.927444}          |\n",
            "|bird |{n07745940, strawberry, 9.118509}       |\n",
            "|frog |{n01630670, common_newt, 11.725792}     |\n",
            "|frog |{n02457408, three-toed_sloth, 9.893128} |\n",
            "|deer |{n02114712, red_wolf, 7.620323}         |\n",
            "|frog |{n02130308, cheetah, 12.235772}         |\n",
            "|bird |{n02457408, three-toed_sloth, 11.331468}|\n",
            "|frog |{n01744401, rock_python, 9.915939}      |\n",
            "|frog |{n01644900, tailed_frog, 10.826723}     |\n",
            "|deer |{n02356798, fox_squirrel, 10.129302}    |\n",
            "+-----+----------------------------------------+\n",
            "only showing top 10 rows\n",
            "\n"
          ]
        }
      ]
    },
    {
      "cell_type": "markdown",
      "metadata": {
        "id": "9TMKEZZp0eS6"
      },
      "source": [
        "## Trying other models"
      ]
    },
    {
      "cell_type": "code",
      "metadata": {
        "colab": {
          "base_uri": "https://localhost:8080/"
        },
        "id": "ONVmoqEYtlrD",
        "outputId": "3f3f3c46-0491-4588-ad13-c9b821cc4a25"
      },
      "source": [
        "# Resnet \n",
        "\n",
        "resnet18_udf = imagenet_model_udf(lambda: models.resnet18(pretrained=True))\n",
        "predictions = df.withColumn(\"prediction\", resnet18_udf(col(\"content\")))\n",
        "predictions.select(col(\"label\"),col(\"prediction\")).show(10, truncate = False)"
      ],
      "execution_count": 17,
      "outputs": [
        {
          "output_type": "stream",
          "name": "stderr",
          "text": [
            "/usr/local/lib/python3.7/dist-packages/pyspark/sql/pandas/functions.py:392: UserWarning: In Python 3.6+ and Spark 3.0+, it is preferred to specify type hints for pandas UDF instead of specifying pandas UDF type which will be deprecated in the future releases. See SPARK-28264 for more details.\n",
            "  \"in the future releases. See SPARK-28264 for more details.\", UserWarning)\n"
          ]
        },
        {
          "output_type": "stream",
          "name": "stdout",
          "text": [
            "+-----+----------------------------------------+\n",
            "|label|prediction                              |\n",
            "+-----+----------------------------------------+\n",
            "|frog |{n02130308, cheetah, 11.560522}         |\n",
            "|bird |{n01443537, goldfish, 10.951969}        |\n",
            "|frog |{n01744401, rock_python, 7.9980874}     |\n",
            "|frog |{n01871265, tusker, 8.802372}           |\n",
            "|deer |{n02114712, red_wolf, 7.421795}         |\n",
            "|frog |{n02356798, fox_squirrel, 7.0292416}    |\n",
            "|bird |{n02457408, three-toed_sloth, 11.415656}|\n",
            "|frog |{n01644900, tailed_frog, 12.168472}     |\n",
            "|frog |{n02115913, dhole, 10.988573}           |\n",
            "|deer |{n03017168, chime, 8.844654}            |\n",
            "+-----+----------------------------------------+\n",
            "only showing top 10 rows\n",
            "\n"
          ]
        }
      ]
    },
    {
      "cell_type": "code",
      "metadata": {
        "colab": {
          "base_uri": "https://localhost:8080/"
        },
        "id": "1EMIuRWtad67",
        "outputId": "1b9cc7c5-4cbc-4ed7-b8f9-ea3d43aab1a0"
      },
      "source": [
        "# Alexnet\n",
        "\n",
        "alexnet_udf = imagenet_model_udf(lambda: models.alexnet(pretrained=True))\n",
        "predictions = df.withColumn(\"prediction\", alexnet_udf(col(\"content\")))\n",
        "predictions.select(col(\"label\"),col(\"prediction\")).show(10, truncate = False)"
      ],
      "execution_count": 18,
      "outputs": [
        {
          "output_type": "stream",
          "name": "stderr",
          "text": [
            "/usr/local/lib/python3.7/dist-packages/pyspark/sql/pandas/functions.py:392: UserWarning: In Python 3.6+ and Spark 3.0+, it is preferred to specify type hints for pandas UDF instead of specifying pandas UDF type which will be deprecated in the future releases. See SPARK-28264 for more details.\n",
            "  \"in the future releases. See SPARK-28264 for more details.\", UserWarning)\n"
          ]
        },
        {
          "output_type": "stream",
          "name": "stdout",
          "text": [
            "+-----+---------------------------------------+\n",
            "|label|prediction                             |\n",
            "+-----+---------------------------------------+\n",
            "|frog |{n02128925, jaguar, 12.137697}         |\n",
            "|bird |{n01443537, goldfish, 7.694492}        |\n",
            "|frog |{n01644900, tailed_frog, 7.793912}     |\n",
            "|frog |{n02487347, macaque, 7.6259594}        |\n",
            "|deer |{n02356798, fox_squirrel, 8.7287}      |\n",
            "|frog |{n02606052, rock_beauty, 6.159985}     |\n",
            "|bird |{n02457408, three-toed_sloth, 8.934298}|\n",
            "|frog |{n01688243, frilled_lizard, 10.808053} |\n",
            "|frog |{n02356798, fox_squirrel, 7.9078245}   |\n",
            "|deer |{n01843065, jacamar, 6.974002}         |\n",
            "+-----+---------------------------------------+\n",
            "only showing top 10 rows\n",
            "\n"
          ]
        }
      ]
    },
    {
      "cell_type": "code",
      "metadata": {
        "colab": {
          "base_uri": "https://localhost:8080/"
        },
        "id": "KtXBCdj3uR-O",
        "outputId": "b3d0b2e2-b583-4a7a-ea81-b0acfd8f4b82"
      },
      "source": [
        "# Squeezenet\n",
        "\n",
        "squeezenet_udf = imagenet_model_udf(lambda: models.squeezenet1_0(pretrained=True))\n",
        "predictions = df.withColumn(\"prediction\", squeezenet_udf(col(\"content\")))\n",
        "predictions.select(col(\"label\"),col(\"prediction\")).show(10, truncate = False)"
      ],
      "execution_count": 19,
      "outputs": [
        {
          "output_type": "stream",
          "name": "stderr",
          "text": [
            "/usr/local/lib/python3.7/dist-packages/pyspark/sql/pandas/functions.py:392: UserWarning: In Python 3.6+ and Spark 3.0+, it is preferred to specify type hints for pandas UDF instead of specifying pandas UDF type which will be deprecated in the future releases. See SPARK-28264 for more details.\n",
            "  \"in the future releases. See SPARK-28264 for more details.\", UserWarning)\n"
          ]
        },
        {
          "output_type": "stream",
          "name": "stdout",
          "text": [
            "+-----+----------------------------------------+\n",
            "|label|prediction                              |\n",
            "+-----+----------------------------------------+\n",
            "|frog |{n02356798, fox_squirrel, 16.09594}     |\n",
            "|bird |{n01443537, goldfish, 13.846475}        |\n",
            "|frog |{n07760859, custard_apple, 18.216074}   |\n",
            "|frog |{n13044778, earthstar, 16.680613}       |\n",
            "|deer |{n02089973, English_foxhound, 20.55805} |\n",
            "|frog |{n01756291, sidewinder, 13.225813}      |\n",
            "|bird |{n02457408, three-toed_sloth, 11.665099}|\n",
            "|frog |{n01776313, tick, 19.134926}            |\n",
            "|frog |{n02356798, fox_squirrel, 20.144127}    |\n",
            "|deer |{n02119022, red_fox, 16.427446}         |\n",
            "+-----+----------------------------------------+\n",
            "only showing top 10 rows\n",
            "\n"
          ]
        }
      ]
    },
    {
      "cell_type": "code",
      "metadata": {
        "colab": {
          "base_uri": "https://localhost:8080/"
        },
        "id": "9bxpsS64u059",
        "outputId": "03caa57b-602b-456b-e56c-ec4e8f48a0c2"
      },
      "source": [
        "# Vgg16\n",
        "\n",
        "vgg16_udf = imagenet_model_udf(lambda: models.vgg16(pretrained=True))\n",
        "predictions = df.withColumn(\"prediction\", vgg16_udf(col(\"content\")))\n",
        "predictions.select(col(\"label\"),col(\"prediction\")).show(10, truncate = False)"
      ],
      "execution_count": 20,
      "outputs": [
        {
          "output_type": "stream",
          "name": "stderr",
          "text": [
            "/usr/local/lib/python3.7/dist-packages/pyspark/sql/pandas/functions.py:392: UserWarning: In Python 3.6+ and Spark 3.0+, it is preferred to specify type hints for pandas UDF instead of specifying pandas UDF type which will be deprecated in the future releases. See SPARK-28264 for more details.\n",
            "  \"in the future releases. See SPARK-28264 for more details.\", UserWarning)\n"
          ]
        },
        {
          "output_type": "stream",
          "name": "stdout",
          "text": [
            "+-----+----------------------------------------+\n",
            "|label|prediction                              |\n",
            "+-----+----------------------------------------+\n",
            "|frog |{n13037406, gyromitra, 11.249056}       |\n",
            "|bird |{n02002724, black_stork, 7.4124026}     |\n",
            "|frog |{n02128925, jaguar, 10.290902}          |\n",
            "|frog |{n02457408, three-toed_sloth, 8.371567} |\n",
            "|deer |{n02099601, golden_retriever, 7.6250567}|\n",
            "|frog |{n02128925, jaguar, 8.039926}           |\n",
            "|bird |{n02457408, three-toed_sloth, 7.6756473}|\n",
            "|frog |{n01688243, frilled_lizard, 8.463073}   |\n",
            "|frog |{n13037406, gyromitra, 8.195274}        |\n",
            "|deer |{n02013706, limpkin, 9.639962}          |\n",
            "+-----+----------------------------------------+\n",
            "only showing top 10 rows\n",
            "\n"
          ]
        }
      ]
    },
    {
      "cell_type": "code",
      "metadata": {
        "colab": {
          "base_uri": "https://localhost:8080/"
        },
        "id": "4j0cqYGlu7DD",
        "outputId": "a3c15c70-5c2d-4731-a668-a8c7a2068ef0"
      },
      "source": [
        "# Densenet\n",
        "\n",
        "densenet161_udf = imagenet_model_udf(lambda: models.densenet161(pretrained=True))\n",
        "predictions = df.withColumn(\"prediction\", densenet161_udf(col(\"content\")))\n",
        "predictions.select(col(\"label\"),col(\"prediction\")).show(10, truncate = False)"
      ],
      "execution_count": 21,
      "outputs": [
        {
          "output_type": "stream",
          "name": "stderr",
          "text": [
            "/usr/local/lib/python3.7/dist-packages/pyspark/sql/pandas/functions.py:392: UserWarning: In Python 3.6+ and Spark 3.0+, it is preferred to specify type hints for pandas UDF instead of specifying pandas UDF type which will be deprecated in the future releases. See SPARK-28264 for more details.\n",
            "  \"in the future releases. See SPARK-28264 for more details.\", UserWarning)\n"
          ]
        },
        {
          "output_type": "stream",
          "name": "stdout",
          "text": [
            "+-----+------------------------------------+\n",
            "|label|prediction                          |\n",
            "+-----+------------------------------------+\n",
            "|frog |{n13037406, gyromitra, 11.50078}    |\n",
            "|bird |{n01443537, goldfish, 10.488806}    |\n",
            "|frog |{n01630670, common_newt, 14.277996} |\n",
            "|frog |{n13037406, gyromitra, 11.299743}   |\n",
            "|deer |{n02114855, coyote, 10.284748}      |\n",
            "|frog |{n01744401, rock_python, 7.383606}  |\n",
            "|bird |{n02500267, indri, 7.679103}        |\n",
            "|frog |{n02356798, fox_squirrel, 11.697643}|\n",
            "|frog |{n13037406, gyromitra, 11.137905}   |\n",
            "|deer |{n02356798, fox_squirrel, 11.487185}|\n",
            "+-----+------------------------------------+\n",
            "only showing top 10 rows\n",
            "\n"
          ]
        }
      ]
    },
    {
      "cell_type": "code",
      "metadata": {
        "colab": {
          "base_uri": "https://localhost:8080/"
        },
        "id": "XY2DgrpMu7hD",
        "outputId": "f77a780a-39b5-4531-c41c-82ba16e35fc2"
      },
      "source": [
        "# Inception\n",
        "\n",
        "inception_v3_udf = imagenet_model_udf(lambda: models.inception_v3(pretrained=True))\n",
        "predictions = df.withColumn(\"prediction\", inception_v3_udf(col(\"content\")))\n",
        "predictions.select(col(\"label\"),col(\"prediction\")).show(10, truncate = False)"
      ],
      "execution_count": 22,
      "outputs": [
        {
          "output_type": "stream",
          "name": "stderr",
          "text": [
            "/usr/local/lib/python3.7/dist-packages/pyspark/sql/pandas/functions.py:392: UserWarning: In Python 3.6+ and Spark 3.0+, it is preferred to specify type hints for pandas UDF instead of specifying pandas UDF type which will be deprecated in the future releases. See SPARK-28264 for more details.\n",
            "  \"in the future releases. See SPARK-28264 for more details.\", UserWarning)\n"
          ]
        },
        {
          "output_type": "stream",
          "name": "stdout",
          "text": [
            "+-----+--------------------------------------+\n",
            "|label|prediction                            |\n",
            "+-----+--------------------------------------+\n",
            "|frog |{n02127052, lynx, 15.658775}          |\n",
            "|bird |{n01631663, eft, 14.187774}           |\n",
            "|frog |{n01644900, tailed_frog, 12.118631}   |\n",
            "|frog |{n01744401, rock_python, 9.564246}    |\n",
            "|deer |{n04525305, vending_machine, 8.474264}|\n",
            "|frog |{n02128385, leopard, 15.748716}       |\n",
            "|bird |{n01770081, harvestman, 9.068718}     |\n",
            "|frog |{n01688243, frilled_lizard, 13.252224}|\n",
            "|frog |{n09256479, coral_reef, 8.501441}     |\n",
            "|deer |{n02356798, fox_squirrel, 10.647777}  |\n",
            "+-----+--------------------------------------+\n",
            "only showing top 10 rows\n",
            "\n"
          ]
        }
      ]
    },
    {
      "cell_type": "code",
      "metadata": {
        "colab": {
          "base_uri": "https://localhost:8080/"
        },
        "id": "QrF-0ENeu73a",
        "outputId": "9234fea4-af39-4423-bec7-53814c69c827"
      },
      "source": [
        "# Googlenet\n",
        "\n",
        "googlenet_udf = imagenet_model_udf(lambda: models.googlenet(pretrained=True))\n",
        "predictions = df.withColumn(\"prediction\", googlenet_udf(col(\"content\")))\n",
        "predictions.select(col(\"label\"),col(\"prediction\")).show(10, truncate = False)"
      ],
      "execution_count": 23,
      "outputs": [
        {
          "output_type": "stream",
          "name": "stderr",
          "text": [
            "/usr/local/lib/python3.7/dist-packages/pyspark/sql/pandas/functions.py:392: UserWarning: In Python 3.6+ and Spark 3.0+, it is preferred to specify type hints for pandas UDF instead of specifying pandas UDF type which will be deprecated in the future releases. See SPARK-28264 for more details.\n",
            "  \"in the future releases. See SPARK-28264 for more details.\", UserWarning)\n"
          ]
        },
        {
          "output_type": "stream",
          "name": "stdout",
          "text": [
            "+-----+------------------------------------+\n",
            "|label|prediction                          |\n",
            "+-----+------------------------------------+\n",
            "|frog |{n02128925, jaguar, 8.538764}       |\n",
            "|bird |{n02606052, rock_beauty, 5.672103}  |\n",
            "|frog |{n02128385, leopard, 6.2645426}     |\n",
            "|frog |{n07730033, cardoon, 3.9538639}     |\n",
            "|deer |{n03016953, chiffonier, 5.7657547}  |\n",
            "|frog |{n03998194, prayer_rug, 6.065628}   |\n",
            "|bird |{n02356798, fox_squirrel, 6.559846} |\n",
            "|frog |{n01644900, tailed_frog, 6.832458}  |\n",
            "|frog |{n02356798, fox_squirrel, 7.4379053}|\n",
            "|deer |{n07745940, strawberry, 6.2945814}  |\n",
            "+-----+------------------------------------+\n",
            "only showing top 10 rows\n",
            "\n"
          ]
        }
      ]
    },
    {
      "cell_type": "code",
      "metadata": {
        "colab": {
          "base_uri": "https://localhost:8080/"
        },
        "id": "yCy0D4-ku8Kl",
        "outputId": "2aa3918c-eb91-4562-ab72-d37e8a0a4e22"
      },
      "source": [
        "# Shufflenet\n",
        "\n",
        "shufflenet_udf = imagenet_model_udf(lambda: models.shufflenet_v2_x1_0(pretrained=True))\n",
        "predictions = df.withColumn(\"prediction\", shufflenet_udf(col(\"content\")))\n",
        "predictions.select(col(\"label\"),col(\"prediction\")).show(10, truncate = False)"
      ],
      "execution_count": 24,
      "outputs": [
        {
          "output_type": "stream",
          "name": "stderr",
          "text": [
            "/usr/local/lib/python3.7/dist-packages/pyspark/sql/pandas/functions.py:392: UserWarning: In Python 3.6+ and Spark 3.0+, it is preferred to specify type hints for pandas UDF instead of specifying pandas UDF type which will be deprecated in the future releases. See SPARK-28264 for more details.\n",
            "  \"in the future releases. See SPARK-28264 for more details.\", UserWarning)\n"
          ]
        },
        {
          "output_type": "stream",
          "name": "stdout",
          "text": [
            "+-----+----------------------------------------+\n",
            "|label|prediction                              |\n",
            "+-----+----------------------------------------+\n",
            "|frog |{n02129165, lion, 13.891481}            |\n",
            "|bird |{n07720875, bell_pepper, 11.219691}     |\n",
            "|frog |{n02356798, fox_squirrel, 9.561252}     |\n",
            "|frog |{n02457408, three-toed_sloth, 10.987317}|\n",
            "|deer |{n02119789, kit_fox, 7.5422497}         |\n",
            "|frog |{n01644900, tailed_frog, 8.782939}      |\n",
            "|bird |{n02457408, three-toed_sloth, 12.465017}|\n",
            "|frog |{n01688243, frilled_lizard, 12.1711035} |\n",
            "|frog |{n02129165, lion, 12.077578}            |\n",
            "|deer |{n02356798, fox_squirrel, 13.9859705}   |\n",
            "+-----+----------------------------------------+\n",
            "only showing top 10 rows\n",
            "\n"
          ]
        }
      ]
    },
    {
      "cell_type": "code",
      "metadata": {
        "colab": {
          "base_uri": "https://localhost:8080/"
        },
        "id": "8s7n3MQ-vsw3",
        "outputId": "26d9bba5-417e-4e38-bdc0-f8e3c10c9e08"
      },
      "source": [
        "# Mobilenet\n",
        "\n",
        "mobilenet_v2_udf = imagenet_model_udf(lambda: models.mobilenet_v2(pretrained=True))\n",
        "predictions = df.withColumn(\"prediction\", mobilenet_v2_udf(col(\"content\")))\n",
        "predictions.select(col(\"label\"),col(\"prediction\")).show(10, truncate = False)"
      ],
      "execution_count": 25,
      "outputs": [
        {
          "output_type": "stream",
          "name": "stderr",
          "text": [
            "/usr/local/lib/python3.7/dist-packages/pyspark/sql/pandas/functions.py:392: UserWarning: In Python 3.6+ and Spark 3.0+, it is preferred to specify type hints for pandas UDF instead of specifying pandas UDF type which will be deprecated in the future releases. See SPARK-28264 for more details.\n",
            "  \"in the future releases. See SPARK-28264 for more details.\", UserWarning)\n"
          ]
        },
        {
          "output_type": "stream",
          "name": "stdout",
          "text": [
            "+-----+----------------------------------------+\n",
            "|label|prediction                              |\n",
            "+-----+----------------------------------------+\n",
            "|frog |{n02128925, jaguar, 13.927444}          |\n",
            "|bird |{n07745940, strawberry, 9.118509}       |\n",
            "|frog |{n01630670, common_newt, 11.725792}     |\n",
            "|frog |{n02457408, three-toed_sloth, 9.893128} |\n",
            "|deer |{n02114712, red_wolf, 7.620323}         |\n",
            "|frog |{n02130308, cheetah, 12.235772}         |\n",
            "|bird |{n02457408, three-toed_sloth, 11.331468}|\n",
            "|frog |{n01744401, rock_python, 9.915939}      |\n",
            "|frog |{n01644900, tailed_frog, 10.826723}     |\n",
            "|deer |{n02356798, fox_squirrel, 10.129302}    |\n",
            "+-----+----------------------------------------+\n",
            "only showing top 10 rows\n",
            "\n"
          ]
        }
      ]
    },
    {
      "cell_type": "code",
      "metadata": {
        "colab": {
          "base_uri": "https://localhost:8080/"
        },
        "id": "tNzr-UrbvtLj",
        "outputId": "9c72d509-f875-48e3-cd37-83a8e94122f6"
      },
      "source": [
        "mobilenet_v3_large_udf = imagenet_model_udf(lambda: models.mobilenet_v3_large(pretrained=True))\n",
        "predictions = df.withColumn(\"prediction\", mobilenet_v3_large_udf(col(\"content\")))\n",
        "predictions.select(col(\"label\"),col(\"prediction\")).show(10, truncate = False)"
      ],
      "execution_count": 26,
      "outputs": [
        {
          "output_type": "stream",
          "name": "stderr",
          "text": [
            "/usr/local/lib/python3.7/dist-packages/pyspark/sql/pandas/functions.py:392: UserWarning: In Python 3.6+ and Spark 3.0+, it is preferred to specify type hints for pandas UDF instead of specifying pandas UDF type which will be deprecated in the future releases. See SPARK-28264 for more details.\n",
            "  \"in the future releases. See SPARK-28264 for more details.\", UserWarning)\n"
          ]
        },
        {
          "output_type": "stream",
          "name": "stdout",
          "text": [
            "+-----+----------------------------------+\n",
            "|label|prediction                        |\n",
            "+-----+----------------------------------+\n",
            "|frog |{n01644900, tailed_frog, 8.541575}|\n",
            "|bird |{n01818515, macaw, 7.593059}      |\n",
            "|frog |{n01644900, tailed_frog, 8.550882}|\n",
            "|frog |{n13037406, gyromitra, 8.226665}  |\n",
            "|deer |{n02423022, gazelle, 7.046612}    |\n",
            "|frog |{n02128925, jaguar, 7.5521393}    |\n",
            "|bird |{n02500267, indri, 7.035239}      |\n",
            "|frog |{n01644900, tailed_frog, 8.152968}|\n",
            "|frog |{n13037406, gyromitra, 7.8628855} |\n",
            "|deer |{n02422106, hartebeest, 9.383434} |\n",
            "+-----+----------------------------------+\n",
            "only showing top 10 rows\n",
            "\n"
          ]
        }
      ]
    },
    {
      "cell_type": "code",
      "metadata": {
        "colab": {
          "base_uri": "https://localhost:8080/"
        },
        "id": "nLlpx_1Qvteb",
        "outputId": "ddba17fe-eec3-4fe4-bebf-8a8beeab6f78"
      },
      "source": [
        "mobilenet_v3_small_udf = imagenet_model_udf(lambda: models.mobilenet_v3_small(pretrained=True))\n",
        "predictions = df.withColumn(\"prediction\", mobilenet_v3_small_udf(col(\"content\")))\n",
        "predictions.select(col(\"label\"),col(\"prediction\")).show(10, truncate = False)"
      ],
      "execution_count": 27,
      "outputs": [
        {
          "output_type": "stream",
          "name": "stderr",
          "text": [
            "/usr/local/lib/python3.7/dist-packages/pyspark/sql/pandas/functions.py:392: UserWarning: In Python 3.6+ and Spark 3.0+, it is preferred to specify type hints for pandas UDF instead of specifying pandas UDF type which will be deprecated in the future releases. See SPARK-28264 for more details.\n",
            "  \"in the future releases. See SPARK-28264 for more details.\", UserWarning)\n"
          ]
        },
        {
          "output_type": "stream",
          "name": "stdout",
          "text": [
            "+-----+-----------------------------------+\n",
            "|label|prediction                         |\n",
            "+-----+-----------------------------------+\n",
            "|frog |{n02130308, cheetah, 8.274257}     |\n",
            "|bird |{n02002724, black_stork, 6.107225} |\n",
            "|frog |{n01630670, common_newt, 8.539049} |\n",
            "|frog |{n13037406, gyromitra, 7.852108}   |\n",
            "|deer |{n02114712, red_wolf, 10.001156}   |\n",
            "|frog |{n01756291, sidewinder, 7.2776165} |\n",
            "|bird |{n04604644, worm_fence, 5.3525352} |\n",
            "|frog |{n01644900, tailed_frog, 9.493502} |\n",
            "|frog |{n02356798, fox_squirrel, 6.365085}|\n",
            "|deer |{n02389026, sorrel, 4.5488844}     |\n",
            "+-----+-----------------------------------+\n",
            "only showing top 10 rows\n",
            "\n"
          ]
        }
      ]
    },
    {
      "cell_type": "code",
      "metadata": {
        "colab": {
          "base_uri": "https://localhost:8080/"
        },
        "id": "R1npbw-JvtuM",
        "outputId": "fc705f76-24fc-4ee9-ea88-e301da6e52a3"
      },
      "source": [
        "# Resnext\n",
        "\n",
        "resnext50_32x4d_udf = imagenet_model_udf(lambda: models.resnext50_32x4d(pretrained=True))\n",
        "predictions = df.withColumn(\"prediction\",resnext50_32x4d_udf(col(\"content\")))\n",
        "predictions.select(col(\"label\"),col(\"prediction\")).show(10, truncate = False)"
      ],
      "execution_count": 28,
      "outputs": [
        {
          "output_type": "stream",
          "name": "stderr",
          "text": [
            "/usr/local/lib/python3.7/dist-packages/pyspark/sql/pandas/functions.py:392: UserWarning: In Python 3.6+ and Spark 3.0+, it is preferred to specify type hints for pandas UDF instead of specifying pandas UDF type which will be deprecated in the future releases. See SPARK-28264 for more details.\n",
            "  \"in the future releases. See SPARK-28264 for more details.\", UserWarning)\n"
          ]
        },
        {
          "output_type": "stream",
          "name": "stdout",
          "text": [
            "+-----+--------------------------------------+\n",
            "|label|prediction                            |\n",
            "+-----+--------------------------------------+\n",
            "|frog |{n02128925, jaguar, 15.668928}        |\n",
            "|bird |{n02002724, black_stork, 9.183935}    |\n",
            "|frog |{n01644900, tailed_frog, 7.7040114}   |\n",
            "|frog |{n01644900, tailed_frog, 12.080752}   |\n",
            "|deer |{n02090379, redbone, 8.180999}        |\n",
            "|frog |{n01744401, rock_python, 9.788459}    |\n",
            "|bird |{n02492660, howler_monkey, 11.933609} |\n",
            "|frog |{n01688243, frilled_lizard, 18.348505}|\n",
            "|frog |{n13037406, gyromitra, 10.3714695}    |\n",
            "|deer |{n02115913, dhole, 11.735558}         |\n",
            "+-----+--------------------------------------+\n",
            "only showing top 10 rows\n",
            "\n"
          ]
        }
      ]
    },
    {
      "cell_type": "code",
      "metadata": {
        "colab": {
          "base_uri": "https://localhost:8080/"
        },
        "id": "ZzXNxf6ovt-U",
        "outputId": "c1887a6f-deac-4720-8812-93508df25f56"
      },
      "source": [
        "# WideResnet\n",
        "\n",
        "wide_resnet50_2_udf = imagenet_model_udf(lambda: models.wide_resnet50_2(pretrained=True))\n",
        "predictions = df.withColumn(\"prediction\", wide_resnet50_2_udf(col(\"content\")))\n",
        "predictions.select(col(\"label\"),col(\"prediction\")).show(10, truncate = False)"
      ],
      "execution_count": 29,
      "outputs": [
        {
          "output_type": "stream",
          "name": "stderr",
          "text": [
            "/usr/local/lib/python3.7/dist-packages/pyspark/sql/pandas/functions.py:392: UserWarning: In Python 3.6+ and Spark 3.0+, it is preferred to specify type hints for pandas UDF instead of specifying pandas UDF type which will be deprecated in the future releases. See SPARK-28264 for more details.\n",
            "  \"in the future releases. See SPARK-28264 for more details.\", UserWarning)\n"
          ]
        },
        {
          "output_type": "stream",
          "name": "stdout",
          "text": [
            "+-----+---------------------------------------+\n",
            "|label|prediction                             |\n",
            "+-----+---------------------------------------+\n",
            "|frog |{n02128925, jaguar, 13.496078}         |\n",
            "|bird |{n07714990, broccoli, 7.3184166}       |\n",
            "|frog |{n01630670, common_newt, 8.448229}     |\n",
            "|frog |{n01688243, frilled_lizard, 9.081802}  |\n",
            "|deer |{n02129604, tiger, 9.687185}           |\n",
            "|frog |{n02128385, leopard, 8.887554}         |\n",
            "|bird |{n02492660, howler_monkey, 10.001827}  |\n",
            "|frog |{n01688243, frilled_lizard, 12.0437355}|\n",
            "|frog |{n13037406, gyromitra, 8.195}          |\n",
            "|deer |{n02356798, fox_squirrel, 10.605209}   |\n",
            "+-----+---------------------------------------+\n",
            "only showing top 10 rows\n",
            "\n"
          ]
        }
      ]
    },
    {
      "cell_type": "code",
      "metadata": {
        "colab": {
          "base_uri": "https://localhost:8080/"
        },
        "id": "xLs1G250vuMJ",
        "outputId": "b267b5ff-b290-414e-ce3f-979174a7d730"
      },
      "source": [
        "# Mnasnet\n",
        "\n",
        "mnasnet1_0_udf = imagenet_model_udf(lambda: models.mnasnet1_0(pretrained=True))\n",
        "predictions = df.withColumn(\"prediction\", mnasnet1_0_udf(col(\"content\")))\n",
        "predictions.select(col(\"label\"),col(\"prediction\")).show(10, truncate = False)"
      ],
      "execution_count": 30,
      "outputs": [
        {
          "output_type": "stream",
          "name": "stderr",
          "text": [
            "/usr/local/lib/python3.7/dist-packages/pyspark/sql/pandas/functions.py:392: UserWarning: In Python 3.6+ and Spark 3.0+, it is preferred to specify type hints for pandas UDF instead of specifying pandas UDF type which will be deprecated in the future releases. See SPARK-28264 for more details.\n",
            "  \"in the future releases. See SPARK-28264 for more details.\", UserWarning)\n"
          ]
        },
        {
          "output_type": "stream",
          "name": "stdout",
          "text": [
            "+-----+----------------------------------------+\n",
            "|label|prediction                              |\n",
            "+-----+----------------------------------------+\n",
            "|frog |{n02128925, jaguar, 15.212853}          |\n",
            "|bird |{n01443537, goldfish, 10.728087}        |\n",
            "|frog |{n07760859, custard_apple, 12.752817}   |\n",
            "|frog |{n02457408, three-toed_sloth, 12.623458}|\n",
            "|deer |{n02090379, redbone, 8.531106}          |\n",
            "|frog |{n02128925, jaguar, 11.006413}          |\n",
            "|bird |{n02493793, spider_monkey, 12.954729}   |\n",
            "|frog |{n01688243, frilled_lizard, 11.320785}  |\n",
            "|frog |{n01990800, isopod, 10.630776}          |\n",
            "|deer |{n02087046, toy_terrier, 9.972003}      |\n",
            "+-----+----------------------------------------+\n",
            "only showing top 10 rows\n",
            "\n"
          ]
        }
      ]
    }
  ]
}